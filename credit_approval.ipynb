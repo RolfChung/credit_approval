{
 "cells": [
  {
   "cell_type": "markdown",
   "metadata": {},
   "source": [
    "## Summary\n",
    "<p>\n",
    "The goal of this project to predict credit card approval based on machine learnin algorithms.\n",
    "In principle the data science workflow conducted here could be incorporated into \n",
    "a production system supporting financial instutitions like banks or other financial service companies\n",
    "to make decisions in short time frames. The decision boils down to approve or reject the application\n",
    "for a credit card.\n",
    "</p> \n",
    "\n",
    "\n",
    "\n",
    "<p>\n",
    "The data set used here is the Credit Approval Data Set taken from the \n",
    "<a href=\"http://archive.ics.uci.edu/ml/datasets/credit+approval\">UCI Machine Learning Repository</a>.\n",
    "</p> \n",
    "\n",
    "<p>\n",
    "This project in applies the many parts of the data science life cycle from data exploration, data cleaning, feature selection, data preprocessing and machine learning. These methods are\n",
    "applied:\n",
    "</p>\n",
    "\n",
    "<ul>\n",
    "\n",
    "<li>data import</li>\n",
    "<li>data exploration</li>\n",
    "<li>statistics</li>\n",
    "<li>data aggregation</li>\n",
    "<li>data visualization</li>\n",
    "<li>data cleaning</li>\n",
    "<li>imputing missing values</li>\n",
    "<li>converting features to numerics</li>\n",
    "<li>label encoding</li>\n",
    "<li>frequency encoding</li>\n",
    "<li>data preprocessing</li>\n",
    "<li>feature selection on ground of <br>\n",
    "    domain knowledge and correlation</li>\n",
    "<li>feature scaling</li>  \n",
    "<li>data partitioning</li>\n",
    "<li>train-test-split</li>\n",
    "<li>cross validation</li>\n",
    "<li>data modeling</li> \n",
    "<li>GridSearch cross validation</li>\n",
    "<li>LogisticRegression</li>\n",
    "<li>RandomForest</li>\n",
    "<li>model evaluation</li>\n",
    "<li>accuracy score</li>\n",
    "<li>confusion matrix</li>    \n",
    "\n",
    "</ul>\n",
    "    \n",
    "<p>\n",
    "Comments are and explanations are given within the coding.\n",
    "A conclusion is made at the end.\n",
    "</p> \n"
   ]
  },
  {
   "cell_type": "code",
   "execution_count": 703,
   "metadata": {},
   "outputs": [
    {
     "name": "stdout",
     "output_type": "stream",
     "text": [
      "numpy version:  1.16.2\n"
     ]
    }
   ],
   "source": [
    "import pandas as pd\n",
    "\n",
    "import matplotlib.pyplot as plt\n",
    "%matplotlib inline\n",
    "from matplotlib.pyplot import cm\n",
    "from mpl_toolkits.mplot3d import Axes3D\n",
    "import seaborn as sns\n",
    "from PIL import Image\n",
    "\n",
    "plt.rcParams['font.size'] = 11\n",
    "plt.rcParams['font.style'] = 'italic'\n",
    "plt.rcParams['font.family'] = 'monospace'\n",
    "\n",
    "import numpy as np\n",
    "print(\"numpy version: \", np.__version__)\n",
    "import scipy.stats\n",
    "import math\n",
    "import os\n",
    "import types\n",
    "from random import sample\n",
    "from random import choices\n",
    "import random\n",
    "import warnings\n",
    "\n",
    "from sklearn import preprocessing\n",
    "# Import train_test_split\n",
    "from sklearn.model_selection import train_test_split\n",
    "from sklearn.preprocessing import MinMaxScaler\n",
    "from sklearn.linear_model import LogisticRegression\n",
    "from sklearn.metrics import confusion_matrix\n",
    "from sklearn.ensemble import RandomForestClassifier\n",
    "from sklearn.model_selection import GridSearchCV"
   ]
  },
  {
   "cell_type": "code",
   "execution_count": 704,
   "metadata": {},
   "outputs": [],
   "source": [
    "working_directory = os.getcwd()"
   ]
  },
  {
   "cell_type": "code",
   "execution_count": 705,
   "metadata": {},
   "outputs": [
    {
     "name": "stdout",
     "output_type": "stream",
     "text": [
      "credit_approval\n"
     ]
    }
   ],
   "source": [
    "# os.chdir(\"credit_approval\")\n",
    "\n",
    "dirpath = os.getcwd()\n",
    "foldername = os.path.basename(dirpath)\n",
    "print(foldername)"
   ]
  },
  {
   "cell_type": "markdown",
   "metadata": {},
   "source": [
    "### Data import"
   ]
  },
  {
   "cell_type": "code",
   "execution_count": 706,
   "metadata": {},
   "outputs": [],
   "source": [
    "credit_approvals = pd.read_csv('crx.data')"
   ]
  },
  {
   "cell_type": "markdown",
   "metadata": {},
   "source": [
    "#### Data exploration"
   ]
  },
  {
   "cell_type": "code",
   "execution_count": 707,
   "metadata": {},
   "outputs": [
    {
     "data": {
      "text/html": [
       "<div>\n",
       "<style scoped>\n",
       "    .dataframe tbody tr th:only-of-type {\n",
       "        vertical-align: middle;\n",
       "    }\n",
       "\n",
       "    .dataframe tbody tr th {\n",
       "        vertical-align: top;\n",
       "    }\n",
       "\n",
       "    .dataframe thead th {\n",
       "        text-align: right;\n",
       "    }\n",
       "</style>\n",
       "<table border=\"1\" class=\"dataframe\">\n",
       "  <thead>\n",
       "    <tr style=\"text-align: right;\">\n",
       "      <th></th>\n",
       "      <th>b</th>\n",
       "      <th>30.83</th>\n",
       "      <th>0</th>\n",
       "      <th>u</th>\n",
       "      <th>g</th>\n",
       "      <th>w</th>\n",
       "      <th>v</th>\n",
       "      <th>1.25</th>\n",
       "      <th>t</th>\n",
       "      <th>t.1</th>\n",
       "      <th>01</th>\n",
       "      <th>f</th>\n",
       "      <th>g.1</th>\n",
       "      <th>00202</th>\n",
       "      <th>0.1</th>\n",
       "      <th>+</th>\n",
       "    </tr>\n",
       "  </thead>\n",
       "  <tbody>\n",
       "    <tr>\n",
       "      <th>0</th>\n",
       "      <td>a</td>\n",
       "      <td>58.67</td>\n",
       "      <td>4.460</td>\n",
       "      <td>u</td>\n",
       "      <td>g</td>\n",
       "      <td>q</td>\n",
       "      <td>h</td>\n",
       "      <td>3.04</td>\n",
       "      <td>t</td>\n",
       "      <td>t</td>\n",
       "      <td>6</td>\n",
       "      <td>f</td>\n",
       "      <td>g</td>\n",
       "      <td>00043</td>\n",
       "      <td>560</td>\n",
       "      <td>+</td>\n",
       "    </tr>\n",
       "    <tr>\n",
       "      <th>1</th>\n",
       "      <td>a</td>\n",
       "      <td>24.50</td>\n",
       "      <td>0.500</td>\n",
       "      <td>u</td>\n",
       "      <td>g</td>\n",
       "      <td>q</td>\n",
       "      <td>h</td>\n",
       "      <td>1.50</td>\n",
       "      <td>t</td>\n",
       "      <td>f</td>\n",
       "      <td>0</td>\n",
       "      <td>f</td>\n",
       "      <td>g</td>\n",
       "      <td>00280</td>\n",
       "      <td>824</td>\n",
       "      <td>+</td>\n",
       "    </tr>\n",
       "    <tr>\n",
       "      <th>2</th>\n",
       "      <td>b</td>\n",
       "      <td>27.83</td>\n",
       "      <td>1.540</td>\n",
       "      <td>u</td>\n",
       "      <td>g</td>\n",
       "      <td>w</td>\n",
       "      <td>v</td>\n",
       "      <td>3.75</td>\n",
       "      <td>t</td>\n",
       "      <td>t</td>\n",
       "      <td>5</td>\n",
       "      <td>t</td>\n",
       "      <td>g</td>\n",
       "      <td>00100</td>\n",
       "      <td>3</td>\n",
       "      <td>+</td>\n",
       "    </tr>\n",
       "    <tr>\n",
       "      <th>3</th>\n",
       "      <td>b</td>\n",
       "      <td>20.17</td>\n",
       "      <td>5.625</td>\n",
       "      <td>u</td>\n",
       "      <td>g</td>\n",
       "      <td>w</td>\n",
       "      <td>v</td>\n",
       "      <td>1.71</td>\n",
       "      <td>t</td>\n",
       "      <td>f</td>\n",
       "      <td>0</td>\n",
       "      <td>f</td>\n",
       "      <td>s</td>\n",
       "      <td>00120</td>\n",
       "      <td>0</td>\n",
       "      <td>+</td>\n",
       "    </tr>\n",
       "    <tr>\n",
       "      <th>4</th>\n",
       "      <td>b</td>\n",
       "      <td>32.08</td>\n",
       "      <td>4.000</td>\n",
       "      <td>u</td>\n",
       "      <td>g</td>\n",
       "      <td>m</td>\n",
       "      <td>v</td>\n",
       "      <td>2.50</td>\n",
       "      <td>t</td>\n",
       "      <td>f</td>\n",
       "      <td>0</td>\n",
       "      <td>t</td>\n",
       "      <td>g</td>\n",
       "      <td>00360</td>\n",
       "      <td>0</td>\n",
       "      <td>+</td>\n",
       "    </tr>\n",
       "  </tbody>\n",
       "</table>\n",
       "</div>"
      ],
      "text/plain": [
       "   b  30.83      0  u  g  w  v  1.25  t t.1  01  f g.1  00202  0.1  +\n",
       "0  a  58.67  4.460  u  g  q  h  3.04  t   t   6  f   g  00043  560  +\n",
       "1  a  24.50  0.500  u  g  q  h  1.50  t   f   0  f   g  00280  824  +\n",
       "2  b  27.83  1.540  u  g  w  v  3.75  t   t   5  t   g  00100    3  +\n",
       "3  b  20.17  5.625  u  g  w  v  1.71  t   f   0  f   s  00120    0  +\n",
       "4  b  32.08  4.000  u  g  m  v  2.50  t   f   0  t   g  00360    0  +"
      ]
     },
     "execution_count": 707,
     "metadata": {},
     "output_type": "execute_result"
    }
   ],
   "source": [
    "credit_approvals.head()"
   ]
  },
  {
   "cell_type": "code",
   "execution_count": 708,
   "metadata": {},
   "outputs": [
    {
     "data": {
      "text/html": [
       "<div>\n",
       "<style scoped>\n",
       "    .dataframe tbody tr th:only-of-type {\n",
       "        vertical-align: middle;\n",
       "    }\n",
       "\n",
       "    .dataframe tbody tr th {\n",
       "        vertical-align: top;\n",
       "    }\n",
       "\n",
       "    .dataframe thead th {\n",
       "        text-align: right;\n",
       "    }\n",
       "</style>\n",
       "<table border=\"1\" class=\"dataframe\">\n",
       "  <thead>\n",
       "    <tr style=\"text-align: right;\">\n",
       "      <th></th>\n",
       "      <th>b</th>\n",
       "      <th>30.83</th>\n",
       "      <th>0</th>\n",
       "      <th>u</th>\n",
       "      <th>g</th>\n",
       "      <th>w</th>\n",
       "      <th>v</th>\n",
       "      <th>1.25</th>\n",
       "      <th>t</th>\n",
       "      <th>t.1</th>\n",
       "      <th>01</th>\n",
       "      <th>f</th>\n",
       "      <th>g.1</th>\n",
       "      <th>00202</th>\n",
       "      <th>0.1</th>\n",
       "      <th>+</th>\n",
       "    </tr>\n",
       "  </thead>\n",
       "  <tbody>\n",
       "    <tr>\n",
       "      <th>670</th>\n",
       "      <td>b</td>\n",
       "      <td>25.83</td>\n",
       "      <td>12.835</td>\n",
       "      <td>u</td>\n",
       "      <td>g</td>\n",
       "      <td>cc</td>\n",
       "      <td>v</td>\n",
       "      <td>0.50</td>\n",
       "      <td>f</td>\n",
       "      <td>f</td>\n",
       "      <td>0</td>\n",
       "      <td>f</td>\n",
       "      <td>g</td>\n",
       "      <td>00000</td>\n",
       "      <td>2</td>\n",
       "      <td>-</td>\n",
       "    </tr>\n",
       "    <tr>\n",
       "      <th>671</th>\n",
       "      <td>a</td>\n",
       "      <td>50.25</td>\n",
       "      <td>0.835</td>\n",
       "      <td>u</td>\n",
       "      <td>g</td>\n",
       "      <td>aa</td>\n",
       "      <td>v</td>\n",
       "      <td>0.50</td>\n",
       "      <td>f</td>\n",
       "      <td>f</td>\n",
       "      <td>0</td>\n",
       "      <td>t</td>\n",
       "      <td>g</td>\n",
       "      <td>00240</td>\n",
       "      <td>117</td>\n",
       "      <td>-</td>\n",
       "    </tr>\n",
       "    <tr>\n",
       "      <th>672</th>\n",
       "      <td>?</td>\n",
       "      <td>29.50</td>\n",
       "      <td>2.000</td>\n",
       "      <td>y</td>\n",
       "      <td>p</td>\n",
       "      <td>e</td>\n",
       "      <td>h</td>\n",
       "      <td>2.00</td>\n",
       "      <td>f</td>\n",
       "      <td>f</td>\n",
       "      <td>0</td>\n",
       "      <td>f</td>\n",
       "      <td>g</td>\n",
       "      <td>00256</td>\n",
       "      <td>17</td>\n",
       "      <td>-</td>\n",
       "    </tr>\n",
       "    <tr>\n",
       "      <th>673</th>\n",
       "      <td>a</td>\n",
       "      <td>37.33</td>\n",
       "      <td>2.500</td>\n",
       "      <td>u</td>\n",
       "      <td>g</td>\n",
       "      <td>i</td>\n",
       "      <td>h</td>\n",
       "      <td>0.21</td>\n",
       "      <td>f</td>\n",
       "      <td>f</td>\n",
       "      <td>0</td>\n",
       "      <td>f</td>\n",
       "      <td>g</td>\n",
       "      <td>00260</td>\n",
       "      <td>246</td>\n",
       "      <td>-</td>\n",
       "    </tr>\n",
       "  </tbody>\n",
       "</table>\n",
       "</div>"
      ],
      "text/plain": [
       "     b  30.83       0  u  g   w  v  1.25  t t.1  01  f g.1  00202  0.1  +\n",
       "670  b  25.83  12.835  u  g  cc  v  0.50  f   f   0  f   g  00000    2  -\n",
       "671  a  50.25   0.835  u  g  aa  v  0.50  f   f   0  t   g  00240  117  -\n",
       "672  ?  29.50   2.000  y  p   e  h  2.00  f   f   0  f   g  00256   17  -\n",
       "673  a  37.33   2.500  u  g   i  h  0.21  f   f   0  f   g  00260  246  -"
      ]
     },
     "execution_count": 708,
     "metadata": {},
     "output_type": "execute_result"
    }
   ],
   "source": [
    "credit_approvals.iloc[670:674]"
   ]
  },
  {
   "cell_type": "code",
   "execution_count": 709,
   "metadata": {},
   "outputs": [
    {
     "data": {
      "text/plain": [
       "(689, 16)"
      ]
     },
     "execution_count": 709,
     "metadata": {},
     "output_type": "execute_result"
    }
   ],
   "source": [
    "credit_approvals.shape"
   ]
  },
  {
   "cell_type": "markdown",
   "metadata": {},
   "source": [
    "#### Change anonymised column names to clear column names"
   ]
  },
  {
   "cell_type": "code",
   "execution_count": 710,
   "metadata": {},
   "outputs": [
    {
     "name": "stdout",
     "output_type": "stream",
     "text": [
      "16\n"
     ]
    }
   ],
   "source": [
    "colnames = ['Gender', 'Age', 'Debt', 'Married', 'BankCustomer', 'EducationLevel', 'Ethnicity', 'YearsEmployed', \n",
    "            'PriorDefault', 'Employed', 'CreditScore', 'DriversLicense', 'Citizen', 'ZipCode', \n",
    "            'Income', 'ApprovalStatus']\n",
    "print(len(colnames))"
   ]
  },
  {
   "cell_type": "code",
   "execution_count": 711,
   "metadata": {},
   "outputs": [
    {
     "name": "stdout",
     "output_type": "stream",
     "text": [
      "Index(['Gender', 'Age', 'Debt', 'Married', 'BankCustomer', 'EducationLevel',\n",
      "       'Ethnicity', 'YearsEmployed', 'PriorDefault', 'Employed', 'CreditScore',\n",
      "       'DriversLicense', 'Citizen', 'ZipCode', 'Income', 'ApprovalStatus'],\n",
      "      dtype='object')\n"
     ]
    }
   ],
   "source": [
    "creditap = credit_approvals.copy()\n",
    "creditap.columns = colnames\n",
    "print(creditap.columns)\n"
   ]
  },
  {
   "cell_type": "code",
   "execution_count": 712,
   "metadata": {},
   "outputs": [
    {
     "name": "stdout",
     "output_type": "stream",
     "text": [
      "<class 'pandas.core.frame.DataFrame'>\n",
      "RangeIndex: 689 entries, 0 to 688\n",
      "Data columns (total 16 columns):\n",
      "Gender            689 non-null object\n",
      "Age               689 non-null object\n",
      "Debt              689 non-null float64\n",
      "Married           689 non-null object\n",
      "BankCustomer      689 non-null object\n",
      "EducationLevel    689 non-null object\n",
      "Ethnicity         689 non-null object\n",
      "YearsEmployed     689 non-null float64\n",
      "PriorDefault      689 non-null object\n",
      "Employed          689 non-null object\n",
      "CreditScore       689 non-null int64\n",
      "DriversLicense    689 non-null object\n",
      "Citizen           689 non-null object\n",
      "ZipCode           689 non-null object\n",
      "Income            689 non-null int64\n",
      "ApprovalStatus    689 non-null object\n",
      "dtypes: float64(2), int64(2), object(12)\n",
      "memory usage: 86.2+ KB\n"
     ]
    }
   ],
   "source": [
    "creditap.info()"
   ]
  },
  {
   "cell_type": "markdown",
   "metadata": {},
   "source": [
    "#### Identifying target variable\n",
    "\n",
    "<p>is in this case self explanatory.</p> "
   ]
  },
  {
   "cell_type": "code",
   "execution_count": 713,
   "metadata": {},
   "outputs": [
    {
     "name": "stdout",
     "output_type": "stream",
     "text": [
      "(689,)\n",
      "['+' '-']\n",
      "-    383\n",
      "+    306\n",
      "Name: ApprovalStatus, dtype: int64\n"
     ]
    },
    {
     "data": {
      "image/png": "[encoded data removed]",
      "text/plain": [
       "<Figure size 432x288 with 1 Axes>"
      ]
     },
     "metadata": {
      "needs_background": "light"
     },
     "output_type": "display_data"
    }
   ],
   "source": [
    "print(creditap['ApprovalStatus'].shape)\n",
    "print(creditap['ApprovalStatus'].unique())\n",
    "print(creditap['ApprovalStatus'].value_counts())\n",
    "creditap['ApprovalStatus'].value_counts().plot(kind=\"bar\", edgecolor='r', linewidth=4,\n",
    "                                               title=\"Count of unique values of the target variable \\n approval status\")\n",
    "plt.show()"
   ]
  },
  {
   "cell_type": "markdown",
   "metadata": {},
   "source": [
    "#### Explore numerical variables"
   ]
  },
  {
   "cell_type": "code",
   "execution_count": 714,
   "metadata": {},
   "outputs": [
    {
     "name": "stdout",
     "output_type": "stream",
     "text": [
      "(689, 4)\n",
      "<class 'pandas.core.frame.DataFrame'>\n",
      "RangeIndex: 689 entries, 0 to 688\n",
      "Data columns (total 4 columns):\n",
      "Debt             689 non-null float64\n",
      "YearsEmployed    689 non-null float64\n",
      "CreditScore      689 non-null int64\n",
      "Income           689 non-null int64\n",
      "dtypes: float64(2), int64(2)\n",
      "memory usage: 21.6 KB\n"
     ]
    }
   ],
   "source": [
    "numbers = creditap.select_dtypes(include=np.number)\n",
    "print(numbers.shape)\n",
    "numbers.info()"
   ]
  },
  {
   "cell_type": "code",
   "execution_count": 715,
   "metadata": {},
   "outputs": [],
   "source": [
    "numbers_list = numbers.columns.to_list()"
   ]
  },
  {
   "cell_type": "code",
   "execution_count": 716,
   "metadata": {},
   "outputs": [
    {
     "data": {
      "image/png": "[encoded data removed]",
      "text/plain": [
       "<Figure size 792x504 with 4 Axes>"
      ]
     },
     "metadata": {
      "needs_background": "light"
     },
     "output_type": "display_data"
    }
   ],
   "source": [
    "color_list=['#f58231', '#911eb4', '#46f0f0', '#f032e6', '#bcf60c', '#fabebe',\n",
    "            '#f58231', '#911eb4', '#46f0f0', '#f032e6', '#bcf60c', '#fabebe',\n",
    "            '#f58231', '#911eb4', '#46f0f0', '#f032e6']\n",
    "\n",
    "fig = plt.figure(figsize=(11,7))\n",
    "fig.subplots_adjust(hspace=0.6, wspace=0.8)\n",
    "fig.suptitle(\"Distribution of numeric variables\")\n",
    "for u,(i,j) in enumerate(zip(range(1,5), numbers_list)):\n",
    "        ax = fig.add_subplot(2, 2, i)\n",
    "        ax = numbers[j].plot.hist(color=color_list[i], \n",
    "                                  title=numbers_list[u])"
   ]
  },
  {
   "cell_type": "markdown",
   "metadata": {},
   "source": [
    "#### Categorical variables"
   ]
  },
  {
   "cell_type": "code",
   "execution_count": 717,
   "metadata": {},
   "outputs": [
    {
     "name": "stdout",
     "output_type": "stream",
     "text": [
      "(689, 12)\n",
      "<class 'pandas.core.frame.DataFrame'>\n",
      "RangeIndex: 689 entries, 0 to 688\n",
      "Data columns (total 12 columns):\n",
      "Gender            689 non-null object\n",
      "Age               689 non-null object\n",
      "Married           689 non-null object\n",
      "BankCustomer      689 non-null object\n",
      "EducationLevel    689 non-null object\n",
      "Ethnicity         689 non-null object\n",
      "PriorDefault      689 non-null object\n",
      "Employed          689 non-null object\n",
      "DriversLicense    689 non-null object\n",
      "Citizen           689 non-null object\n",
      "ZipCode           689 non-null object\n",
      "ApprovalStatus    689 non-null object\n",
      "dtypes: object(12)\n",
      "memory usage: 64.7+ KB\n"
     ]
    }
   ],
   "source": [
    "categorical = creditap.select_dtypes(include='object')\n",
    "print(categorical.shape)\n",
    "categorical.info()"
   ]
  },
  {
   "cell_type": "markdown",
   "metadata": {},
   "source": [
    "Age is a numerial variable, zip code is a qualitative variable with many categories, too many\n",
    "to display here.\n",
    "\n",
    "Some variables, such as social security numbers and zip codes, take numerical values, but are not quantitative: They are qualitative or categorical variables. The sum of two zip codes or social security numbers is not meaningful.\n",
    "<a href=\"https://www.stat.berkeley.edu/~stark/SticiGui/Text/histograms.htm\">Berkeley</a> "
   ]
  },
  {
   "cell_type": "code",
   "execution_count": 718,
   "metadata": {},
   "outputs": [
    {
     "data": {
      "text/plain": [
       "(689, 10)"
      ]
     },
     "execution_count": 718,
     "metadata": {},
     "output_type": "execute_result"
    }
   ],
   "source": [
    "categorical_2 = categorical.copy()\n",
    "\n",
    "categorical_2=categorical_2.drop(columns=['Age', 'ZipCode'], axis=1)\n",
    "categorical_2.shape"
   ]
  },
  {
   "cell_type": "markdown",
   "metadata": {},
   "source": [
    "Unique variables and counts of unique values."
   ]
  },
  {
   "cell_type": "code",
   "execution_count": 719,
   "metadata": {},
   "outputs": [
    {
     "name": "stdout",
     "output_type": "stream",
     "text": [
      "['a' 'b' '?']\n",
      "b    467\n",
      "a    210\n",
      "?     12\n",
      "Name: Gender, dtype: int64\n",
      "0\n"
     ]
    }
   ],
   "source": [
    "print(creditap['Gender'].unique())\n",
    "print(creditap['Gender'].value_counts())\n",
    "print(creditap['Gender'].isnull().sum())"
   ]
  },
  {
   "cell_type": "code",
   "execution_count": 720,
   "metadata": {},
   "outputs": [
    {
     "name": "stdout",
     "output_type": "stream",
     "text": [
      "dict_keys(['Gender', 'Married', 'BankCustomer', 'EducationLevel', 'Ethnicity', 'PriorDefault', 'Employed', 'DriversLicense', 'Citizen', 'ApprovalStatus'])\n",
      "b    467\n",
      "a    210\n",
      "?     12\n",
      "Name: Gender, dtype: int64\n",
      "u    518\n",
      "y    163\n",
      "?      6\n",
      "l      2\n",
      "Name: Married, dtype: int64\n",
      "g     518\n",
      "p     163\n",
      "?       6\n",
      "gg      2\n",
      "Name: BankCustomer, dtype: int64\n"
     ]
    }
   ],
   "source": [
    "count_unique_values = dict()\n",
    "\n",
    "for i in range(len(categorical_2.columns)):\n",
    "    values = categorical_2.iloc[:,i].value_counts()\n",
    "    key = categorical_2.columns[i]\n",
    "    count_unique_values [key] = values\n",
    "    \n",
    "print(count_unique_values.keys())\n",
    "print(count_unique_values['Gender'])\n",
    "print(count_unique_values['Married'])\n",
    "print(count_unique_values['BankCustomer'])\n"
   ]
  },
  {
   "cell_type": "markdown",
   "metadata": {},
   "source": [
    "There are missing values labeled with a questionmark in the categorical variables."
   ]
  },
  {
   "cell_type": "code",
   "execution_count": 792,
   "metadata": {},
   "outputs": [
    {
     "name": "stdout",
     "output_type": "stream",
     "text": [
      "0 Gender\n",
      "1 Married\n",
      "2 BankCustomer\n",
      "3 EducationLevel\n",
      "4 Ethnicity\n",
      "5 PriorDefault\n",
      "6 Employed\n",
      "7 DriversLicense\n",
      "8 Citizen\n",
      "9 ApprovalStatus\n"
     ]
    }
   ],
   "source": [
    "list_keys = list(count_unique_values.keys())\n",
    "for i, e in enumerate(list_keys):\n",
    "    print(i, e)\n"
   ]
  },
  {
   "cell_type": "markdown",
   "metadata": {},
   "source": [
    "Visualization of categorical variables."
   ]
  },
  {
   "cell_type": "code",
   "execution_count": 791,
   "metadata": {},
   "outputs": [
    {
     "data": {
      "image/png": "[encoded data removed]",
      "text/plain": [
       "<Figure size 792x504 with 9 Axes>"
      ]
     },
     "metadata": {
      "needs_background": "light"
     },
     "output_type": "display_data"
    }
   ],
   "source": [
    "color_list=['#f58231', '#911eb4', '#46f0f0', '#f032e6', '#bcf60c', '#fabebe',\n",
    "            '#f58231', '#911eb4', '#46f0f0', '#f032e6', '#bcf60c', '#fabebe',\n",
    "            '#f58231', '#911eb4', '#46f0f0', '#f032e6', '#f58231']\n",
    "\n",
    "fig = plt.figure(figsize=(11,7))\n",
    "fig.subplots_adjust(hspace=0.6, wspace=0.8)\n",
    "fig.suptitle(\"Value counts of categorical variables\")\n",
    "for u,(i,j) in enumerate(zip(range(1,10), list_keys)):\n",
    "        ax = fig.add_subplot(3, 3, i)\n",
    "        ax = count_unique_values[j].plot.bar(color=color_list[i], \n",
    "                                                 title=list_keys[u])"
   ]
  },
  {
   "cell_type": "markdown",
   "metadata": {},
   "source": [
    "In which rows are the missing values labeled as questionmarks?"
   ]
  },
  {
   "cell_type": "code",
   "execution_count": 723,
   "metadata": {},
   "outputs": [
    {
     "name": "stdout",
     "output_type": "stream",
     "text": [
      "dict_keys(['Gender', 'Married', 'BankCustomer', 'EducationLevel', 'Ethnicity', 'PriorDefault', 'Employed', 'DriversLicense', 'Citizen', 'ApprovalStatus'])\n"
     ]
    }
   ],
   "source": [
    "\n",
    "categorical_2 = categorical_2.dropna()\n",
    "questionmarks = dict()\n",
    "for i in range(len(categorical_2.columns)):\n",
    "    df = categorical_2[categorical_2.iloc[:,i].str.contains('\\?')]\n",
    "    key = categorical_2.columns[i]\n",
    "    questionmarks[key] = df\n",
    "    \n",
    "print(questionmarks.keys())\n"
   ]
  },
  {
   "cell_type": "code",
   "execution_count": 724,
   "metadata": {},
   "outputs": [
    {
     "name": "stdout",
     "output_type": "stream",
     "text": [
      "(42, 10)\n",
      "    Gender Married BankCustomer EducationLevel Ethnicity PriorDefault  \\\n",
      "247      ?       u            g              c        bb            t   \n",
      "326      ?       u            g              i        bb            f   \n",
      "345      ?       u            g              c         v            f   \n",
      "373      ?       u            g             aa         v            f   \n",
      "452      ?       u            g              w         v            f   \n",
      "\n",
      "    Employed DriversLicense Citizen ApprovalStatus  \n",
      "247        t              f       g              +  \n",
      "326        f              f       s              -  \n",
      "345        f              t       g              -  \n",
      "373        f              f       g              -  \n",
      "452        f              t       g              -  \n",
      "    Gender Married BankCustomer EducationLevel Ethnicity PriorDefault  \\\n",
      "478      ?       y            p              ?         ?            f   \n",
      "538      b       u            g              ?         ?            t   \n",
      "591      b       ?            ?              ?         ?            f   \n",
      "600      ?       y            p              ?         ?            f   \n",
      "621      a       ?            ?              ?         ?            f   \n",
      "\n",
      "    Employed DriversLicense Citizen ApprovalStatus  \n",
      "478        f              f       s              -  \n",
      "538        f              f       g              -  \n",
      "591        f              f       p              +  \n",
      "600        f              t       g              -  \n",
      "621        f              f       p              +  \n"
     ]
    }
   ],
   "source": [
    "questionmarks_df = pd.concat(questionmarks.values(), ignore_index=False)\n",
    "print(questionmarks_df.shape)\n",
    "print(questionmarks_df.head())\n",
    "print(questionmarks_df.tail())\n"
   ]
  },
  {
   "cell_type": "markdown",
   "metadata": {},
   "source": [
    "Rows with questionmarks."
   ]
  },
  {
   "cell_type": "code",
   "execution_count": 725,
   "metadata": {},
   "outputs": [
    {
     "name": "stdout",
     "output_type": "stream",
     "text": [
      "Int64Index([205, 205, 205, 205, 247, 269, 269, 269, 269, 326, 329, 329, 329,\n",
      "            329, 345, 373, 452, 455, 455, 455, 455, 478, 478, 478, 488, 519,\n",
      "            538, 538, 591, 591, 591, 591, 597, 600, 600, 600, 621, 621, 621,\n",
      "            621, 640, 672],\n",
      "           dtype='int64')\n"
     ]
    }
   ],
   "source": [
    "print(questionmarks_df.index.sort_values())"
   ]
  },
  {
   "cell_type": "markdown",
   "metadata": {},
   "source": [
    "#### Missing values\n",
    "\n",
    "<p>Replacing ? witn np.nan.</p> "
   ]
  },
  {
   "cell_type": "code",
   "execution_count": 726,
   "metadata": {},
   "outputs": [
    {
     "data": {
      "text/plain": [
       "Gender            0\n",
       "Age               0\n",
       "Debt              0\n",
       "Married           0\n",
       "BankCustomer      0\n",
       "EducationLevel    0\n",
       "Ethnicity         0\n",
       "YearsEmployed     0\n",
       "PriorDefault      0\n",
       "Employed          0\n",
       "CreditScore       0\n",
       "DriversLicense    0\n",
       "Citizen           0\n",
       "ZipCode           0\n",
       "Income            0\n",
       "ApprovalStatus    0\n",
       "dtype: int64"
      ]
     },
     "execution_count": 726,
     "metadata": {},
     "output_type": "execute_result"
    }
   ],
   "source": [
    "missing_values = creditap.isnull().sum()\n",
    "missing_values"
   ]
  },
  {
   "cell_type": "markdown",
   "metadata": {},
   "source": [
    "Questionsmarks are missing values, but not recognized as such by pandas.\n",
    "Those are replaced with np.nan. \n",
    "This makes it possible to drop those with pandas."
   ]
  },
  {
   "cell_type": "code",
   "execution_count": 727,
   "metadata": {},
   "outputs": [],
   "source": [
    "creditap_2 = creditap.replace('?', np.nan)"
   ]
  },
  {
   "cell_type": "code",
   "execution_count": 728,
   "metadata": {},
   "outputs": [
    {
     "name": "stdout",
     "output_type": "stream",
     "text": [
      "float64\n"
     ]
    }
   ],
   "source": [
    "# creditap_2[creditap_2['Age'] == 'a']\n",
    "\n",
    "creditap_2['Age'] = creditap_2['Age'].astype('float')\n",
    "print(creditap_2['Age'].dtype)\n"
   ]
  },
  {
   "cell_type": "code",
   "execution_count": 729,
   "metadata": {},
   "outputs": [
    {
     "name": "stdout",
     "output_type": "stream",
     "text": [
      "67\n"
     ]
    },
    {
     "data": {
      "text/plain": [
       "Gender            12\n",
       "Age               12\n",
       "Debt               0\n",
       "Married            6\n",
       "BankCustomer       6\n",
       "EducationLevel     9\n",
       "Ethnicity          9\n",
       "YearsEmployed      0\n",
       "PriorDefault       0\n",
       "Employed           0\n",
       "CreditScore        0\n",
       "DriversLicense     0\n",
       "Citizen            0\n",
       "ZipCode           13\n",
       "Income             0\n",
       "ApprovalStatus     0\n",
       "dtype: int64"
      ]
     },
     "execution_count": 729,
     "metadata": {},
     "output_type": "execute_result"
    }
   ],
   "source": [
    "missing_values_2 = creditap_2.isnull().sum()\n",
    "print(missing_values_2.sum())\n",
    "missing_values_2"
   ]
  },
  {
   "cell_type": "markdown",
   "metadata": {},
   "source": [
    "The missing values coded as np.nan are now visible."
   ]
  },
  {
   "cell_type": "markdown",
   "metadata": {},
   "source": [
    "There is indication that there is a value 28.42 in the numerical value in the categorical columns.\n",
    "This makes no sense and can hinder further data processing. There this is checked now."
   ]
  },
  {
   "cell_type": "code",
   "execution_count": 730,
   "metadata": {},
   "outputs": [
    {
     "data": {
      "text/html": [
       "<div>\n",
       "<style scoped>\n",
       "    .dataframe tbody tr th:only-of-type {\n",
       "        vertical-align: middle;\n",
       "    }\n",
       "\n",
       "    .dataframe tbody tr th {\n",
       "        vertical-align: top;\n",
       "    }\n",
       "\n",
       "    .dataframe thead th {\n",
       "        text-align: right;\n",
       "    }\n",
       "</style>\n",
       "<table border=\"1\" class=\"dataframe\">\n",
       "  <thead>\n",
       "    <tr style=\"text-align: right;\">\n",
       "      <th></th>\n",
       "      <th>Gender</th>\n",
       "      <th>Age</th>\n",
       "      <th>Debt</th>\n",
       "      <th>Married</th>\n",
       "      <th>BankCustomer</th>\n",
       "      <th>EducationLevel</th>\n",
       "      <th>Ethnicity</th>\n",
       "      <th>YearsEmployed</th>\n",
       "      <th>PriorDefault</th>\n",
       "      <th>Employed</th>\n",
       "      <th>CreditScore</th>\n",
       "      <th>DriversLicense</th>\n",
       "      <th>Citizen</th>\n",
       "      <th>ZipCode</th>\n",
       "      <th>Income</th>\n",
       "      <th>ApprovalStatus</th>\n",
       "    </tr>\n",
       "  </thead>\n",
       "  <tbody>\n",
       "  </tbody>\n",
       "</table>\n",
       "</div>"
      ],
      "text/plain": [
       "Empty DataFrame\n",
       "Columns: [Gender, Age, Debt, Married, BankCustomer, EducationLevel, Ethnicity, YearsEmployed, PriorDefault, Employed, CreditScore, DriversLicense, Citizen, ZipCode, Income, ApprovalStatus]\n",
       "Index: []"
      ]
     },
     "execution_count": 730,
     "metadata": {},
     "output_type": "execute_result"
    }
   ],
   "source": [
    "creditap_2[creditap_2.Gender ==  28.42].head()"
   ]
  },
  {
   "cell_type": "code",
   "execution_count": 731,
   "metadata": {},
   "outputs": [
    {
     "name": "stdout",
     "output_type": "stream",
     "text": [
      "<class 'float'>\n"
     ]
    }
   ],
   "source": [
    "print(type(creditap_2.loc[373, 'Gender']))"
   ]
  },
  {
   "cell_type": "code",
   "execution_count": 732,
   "metadata": {},
   "outputs": [
    {
     "data": {
      "text/html": [
       "<div>\n",
       "<style scoped>\n",
       "    .dataframe tbody tr th:only-of-type {\n",
       "        vertical-align: middle;\n",
       "    }\n",
       "\n",
       "    .dataframe tbody tr th {\n",
       "        vertical-align: top;\n",
       "    }\n",
       "\n",
       "    .dataframe thead th {\n",
       "        text-align: right;\n",
       "    }\n",
       "</style>\n",
       "<table border=\"1\" class=\"dataframe\">\n",
       "  <thead>\n",
       "    <tr style=\"text-align: right;\">\n",
       "      <th></th>\n",
       "      <th>Gender</th>\n",
       "      <th>Age</th>\n",
       "      <th>Debt</th>\n",
       "      <th>Married</th>\n",
       "      <th>BankCustomer</th>\n",
       "      <th>EducationLevel</th>\n",
       "      <th>Ethnicity</th>\n",
       "      <th>YearsEmployed</th>\n",
       "      <th>PriorDefault</th>\n",
       "      <th>Employed</th>\n",
       "      <th>CreditScore</th>\n",
       "      <th>DriversLicense</th>\n",
       "      <th>Citizen</th>\n",
       "      <th>ZipCode</th>\n",
       "      <th>Income</th>\n",
       "      <th>ApprovalStatus</th>\n",
       "    </tr>\n",
       "  </thead>\n",
       "  <tbody>\n",
       "    <tr>\n",
       "      <th>128</th>\n",
       "      <td>a</td>\n",
       "      <td>28.42</td>\n",
       "      <td>3.5</td>\n",
       "      <td>u</td>\n",
       "      <td>g</td>\n",
       "      <td>w</td>\n",
       "      <td>v</td>\n",
       "      <td>0.835</td>\n",
       "      <td>t</td>\n",
       "      <td>f</td>\n",
       "      <td>0</td>\n",
       "      <td>f</td>\n",
       "      <td>s</td>\n",
       "      <td>00280</td>\n",
       "      <td>0</td>\n",
       "      <td>+</td>\n",
       "    </tr>\n",
       "  </tbody>\n",
       "</table>\n",
       "</div>"
      ],
      "text/plain": [
       "    Gender    Age  Debt Married BankCustomer EducationLevel Ethnicity  \\\n",
       "128      a  28.42   3.5       u            g              w         v   \n",
       "\n",
       "     YearsEmployed PriorDefault Employed  CreditScore DriversLicense Citizen  \\\n",
       "128          0.835            t        f            0              f       s   \n",
       "\n",
       "    ZipCode  Income ApprovalStatus  \n",
       "128   00280       0              +  "
      ]
     },
     "execution_count": 732,
     "metadata": {},
     "output_type": "execute_result"
    }
   ],
   "source": [
    "creditap_2[creditap_2.Age ==  28.42].head()"
   ]
  },
  {
   "cell_type": "code",
   "execution_count": 733,
   "metadata": {},
   "outputs": [
    {
     "name": "stdout",
     "output_type": "stream",
     "text": [
      "<class 'numpy.float64'>\n"
     ]
    }
   ],
   "source": [
    "print(type(creditap_2.loc[128, 'Age']))"
   ]
  },
  {
   "cell_type": "code",
   "execution_count": 734,
   "metadata": {},
   "outputs": [],
   "source": [
    "def unique_cols(df):\n",
    "    count_unique = dict()\n",
    "    for i in range(len(df.columns)):\n",
    "        if df.iloc[:,i].dtype == 'object':\n",
    "            unique_values = df.iloc[:,i].unique()\n",
    "            key = df.columns[i]\n",
    "            \n",
    "            count_unique[key] = unique_values\n",
    "    return count_unique\n",
    "\n",
    "    "
   ]
  },
  {
   "cell_type": "code",
   "execution_count": 735,
   "metadata": {},
   "outputs": [
    {
     "name": "stdout",
     "output_type": "stream",
     "text": [
      "['Gender', 'Married', 'BankCustomer', 'EducationLevel', 'Ethnicity', 'PriorDefault', 'Employed', 'DriversLicense', 'Citizen', 'ZipCode', 'ApprovalStatus']\n"
     ]
    }
   ],
   "source": [
    "count_unique_2 = unique_cols(creditap_2)\n",
    "print(list(count_unique_2.keys()))"
   ]
  },
  {
   "cell_type": "code",
   "execution_count": 736,
   "metadata": {},
   "outputs": [
    {
     "name": "stdout",
     "output_type": "stream",
     "text": [
      "Gender ['a' 'b' nan]\n",
      "Married ['u' 'y' nan 'l']\n",
      "BankCustomer ['g' 'p' nan 'gg']\n",
      "EducationLevel ['q' 'w' 'm' 'r' 'cc' 'k' 'c' 'd' 'x' 'i' 'e' 'aa' 'ff' 'j' nan]\n",
      "Ethnicity ['h' 'v' 'bb' 'ff' 'j' 'z' nan 'o' 'dd' 'n']\n",
      "PriorDefault ['t' 'f']\n",
      "Employed ['t' 'f']\n",
      "DriversLicense ['f' 't']\n",
      "Citizen ['g' 's' 'p']\n",
      "ApprovalStatus ['+' '-']\n"
     ]
    }
   ],
   "source": [
    "# print all but ZipCode\n",
    "# making a function returning all but one key in a dict\n",
    "def exclude_from_dict(dictionary, name):\n",
    "    cat_cols_ex = {}\n",
    "    for key, value in dictionary.items():\n",
    "        if key != name:\n",
    "            cat_cols_ex[key]=value\n",
    "    return cat_cols_ex\n",
    "\n",
    "cat_cols_28_1=exclude_from_dict(count_unique_2, 'ZipCode')\n",
    "\n",
    "for key, value in cat_cols_28_1.items():\n",
    "    print(key, value)"
   ]
  },
  {
   "cell_type": "markdown",
   "metadata": {},
   "source": [
    "There is indeed a unique value 28.42. This value makes none sense in a categorical variable\n",
    "and is therefore replaced."
   ]
  },
  {
   "cell_type": "code",
   "execution_count": 737,
   "metadata": {},
   "outputs": [
    {
     "data": {
      "text/plain": [
       "Gender            12\n",
       "Age               12\n",
       "Debt               0\n",
       "Married            6\n",
       "BankCustomer       6\n",
       "EducationLevel     9\n",
       "Ethnicity          9\n",
       "YearsEmployed      0\n",
       "PriorDefault       0\n",
       "Employed           0\n",
       "CreditScore        0\n",
       "DriversLicense     0\n",
       "Citizen            0\n",
       "ZipCode           13\n",
       "Income             0\n",
       "ApprovalStatus     0\n",
       "dtype: int64"
      ]
     },
     "execution_count": 737,
     "metadata": {},
     "output_type": "execute_result"
    }
   ],
   "source": [
    "creditap_2.isnull().sum()"
   ]
  },
  {
   "cell_type": "code",
   "execution_count": 738,
   "metadata": {},
   "outputs": [
    {
     "name": "stdout",
     "output_type": "stream",
     "text": [
      "['Gender', 'Married', 'BankCustomer', 'EducationLevel', 'Ethnicity', 'PriorDefault', 'Employed', 'DriversLicense', 'Citizen', 'ApprovalStatus']\n"
     ]
    }
   ],
   "source": [
    "cat_cols_28_2 = list(cat_cols_28_1.keys())\n",
    "print(cat_cols_28_2)"
   ]
  },
  {
   "cell_type": "code",
   "execution_count": 739,
   "metadata": {},
   "outputs": [],
   "source": [
    "# creditap_2[cat_cols_28_2].replace(to_replace=28.42, value=np.nan, inplace=True)\n",
    "creditap_2[cat_cols_28_2].copy().replace(to_replace=28.42, value=np.nan, inplace=True)"
   ]
  },
  {
   "cell_type": "code",
   "execution_count": 740,
   "metadata": {},
   "outputs": [
    {
     "name": "stdout",
     "output_type": "stream",
     "text": [
      "['Gender', 'Married', 'BankCustomer', 'EducationLevel', 'Ethnicity', 'PriorDefault', 'Employed', 'DriversLicense', 'Citizen', 'ZipCode', 'ApprovalStatus']\n",
      "Gender ['a' 'b' nan]\n",
      "Married ['u' 'y' nan 'l']\n",
      "BankCustomer ['g' 'p' nan 'gg']\n",
      "EducationLevel ['q' 'w' 'm' 'r' 'cc' 'k' 'c' 'd' 'x' 'i' 'e' 'aa' 'ff' 'j' nan]\n",
      "Ethnicity ['h' 'v' 'bb' 'ff' 'j' 'z' nan 'o' 'dd' 'n']\n",
      "PriorDefault ['t' 'f']\n",
      "Employed ['t' 'f']\n",
      "DriversLicense ['f' 't']\n",
      "Citizen ['g' 's' 'p']\n",
      "ApprovalStatus ['+' '-']\n"
     ]
    }
   ],
   "source": [
    "count_unique_3 = unique_cols(creditap_2)\n",
    "print(list(count_unique_3.keys()))\n",
    "cat_cols_28_2=exclude_from_dict(count_unique_3, 'ZipCode')\n",
    "\n",
    "for key, value in cat_cols_28_2.items():\n",
    "    print(key, value)"
   ]
  },
  {
   "cell_type": "code",
   "execution_count": 741,
   "metadata": {},
   "outputs": [
    {
     "name": "stdout",
     "output_type": "stream",
     "text": [
      "['a' 'b' nan]\n"
     ]
    }
   ],
   "source": [
    "print(creditap_2.Gender.unique())"
   ]
  },
  {
   "cell_type": "code",
   "execution_count": 742,
   "metadata": {},
   "outputs": [
    {
     "data": {
      "text/plain": [
       "Gender            12\n",
       "Age               12\n",
       "Debt               0\n",
       "Married            6\n",
       "BankCustomer       6\n",
       "EducationLevel     9\n",
       "Ethnicity          9\n",
       "YearsEmployed      0\n",
       "PriorDefault       0\n",
       "Employed           0\n",
       "CreditScore        0\n",
       "DriversLicense     0\n",
       "Citizen            0\n",
       "ZipCode           13\n",
       "Income             0\n",
       "ApprovalStatus     0\n",
       "dtype: int64"
      ]
     },
     "execution_count": 742,
     "metadata": {},
     "output_type": "execute_result"
    }
   ],
   "source": [
    "creditap_2.isnull().sum()"
   ]
  },
  {
   "cell_type": "code",
   "execution_count": 743,
   "metadata": {},
   "outputs": [
    {
     "name": "stdout",
     "output_type": "stream",
     "text": [
      "['a' 'b' nan]\n",
      "['u' 'y' nan 'l']\n"
     ]
    }
   ],
   "source": [
    "print(creditap_2.Gender.unique())\n",
    "print(creditap_2.Married.unique())"
   ]
  },
  {
   "cell_type": "markdown",
   "metadata": {},
   "source": [
    "#### Imputing numeric values\n",
    "\n",
    "In the next step the missing values in the numeric columns are imputed with the median.\n",
    "The median is less disturbed than the mean by outliers."
   ]
  },
  {
   "cell_type": "code",
   "execution_count": 744,
   "metadata": {},
   "outputs": [
    {
     "name": "stdout",
     "output_type": "stream",
     "text": [
      "['Age', 'Debt', 'YearsEmployed', 'CreditScore', 'Income']\n"
     ]
    }
   ],
   "source": [
    "creditap_3 = creditap_2.copy()\n",
    "\n",
    "numeric_cols = []\n",
    "\n",
    "for i in creditap_3.columns:\n",
    "    if creditap_3[i].dtype in ['int64', 'float64']:\n",
    "        numeric_cols.append(i)\n",
    "        creditap_3[i].fillna(creditap_3[i].median(), inplace=True)\n",
    "\n",
    "print(numeric_cols)"
   ]
  },
  {
   "cell_type": "code",
   "execution_count": 745,
   "metadata": {},
   "outputs": [
    {
     "name": "stdout",
     "output_type": "stream",
     "text": [
      "['a' 'b' nan]\n"
     ]
    }
   ],
   "source": [
    "print(creditap_3.Gender.unique())"
   ]
  },
  {
   "cell_type": "code",
   "execution_count": 746,
   "metadata": {},
   "outputs": [
    {
     "name": "stdout",
     "output_type": "stream",
     "text": [
      "0\n",
      "0\n",
      "0\n",
      "0\n",
      "0\n"
     ]
    }
   ],
   "source": [
    "for col in numeric_cols:\n",
    "    print(creditap[i].isnull().sum())"
   ]
  },
  {
   "cell_type": "code",
   "execution_count": 747,
   "metadata": {},
   "outputs": [
    {
     "name": "stdout",
     "output_type": "stream",
     "text": [
      "['a' 'b' nan]\n"
     ]
    }
   ],
   "source": [
    "print(creditap_2.Gender.unique())"
   ]
  },
  {
   "cell_type": "markdown",
   "metadata": {},
   "source": [
    "#### Imputing categorical variables"
   ]
  },
  {
   "cell_type": "code",
   "execution_count": 748,
   "metadata": {},
   "outputs": [
    {
     "name": "stdout",
     "output_type": "stream",
     "text": [
      "['Gender', 'Married', 'BankCustomer', 'EducationLevel', 'Ethnicity', 'PriorDefault', 'Employed', 'DriversLicense', 'Citizen', 'ZipCode', 'ApprovalStatus']\n"
     ]
    }
   ],
   "source": [
    "categorical_cols = []\n",
    "\n",
    "for i in creditap_3.columns:\n",
    "    if creditap_3[i].dtype == 'object':\n",
    "        categorical_cols.append(i)\n",
    "        creditap_3[i]=creditap_3[i].fillna(creditap_3[i].value_counts().index[1])\n",
    "        \n",
    "print(categorical_cols)"
   ]
  },
  {
   "cell_type": "code",
   "execution_count": 749,
   "metadata": {},
   "outputs": [
    {
     "data": {
      "text/plain": [
       "Gender            0\n",
       "Age               0\n",
       "Debt              0\n",
       "Married           0\n",
       "BankCustomer      0\n",
       "EducationLevel    0\n",
       "Ethnicity         0\n",
       "YearsEmployed     0\n",
       "PriorDefault      0\n",
       "Employed          0\n",
       "CreditScore       0\n",
       "DriversLicense    0\n",
       "Citizen           0\n",
       "ZipCode           0\n",
       "Income            0\n",
       "ApprovalStatus    0\n",
       "dtype: int64"
      ]
     },
     "execution_count": 749,
     "metadata": {},
     "output_type": "execute_result"
    }
   ],
   "source": [
    "missing_values_3 = creditap_3.isnull().sum()\n",
    "missing_values_3"
   ]
  },
  {
   "cell_type": "code",
   "execution_count": 750,
   "metadata": {},
   "outputs": [
    {
     "name": "stdout",
     "output_type": "stream",
     "text": [
      "['a' 'b']\n"
     ]
    }
   ],
   "source": [
    "print(creditap_3.Gender.unique())\n"
   ]
  },
  {
   "cell_type": "markdown",
   "metadata": {},
   "source": [
    "#### Encoding of categorical variables"
   ]
  },
  {
   "cell_type": "markdown",
   "metadata": {},
   "source": [
    "##### <b>The problem with zip code as a categorical, qualitative variable</b>\n",
    "\n",
    "<p>\n",
    "arises because the level of measurement of zip code and similar variables is nominal\n",
    "with no inherent ranking. Encoding it with an integer label could lead to a distorted ranking\n",
    "and mislead the algorithms to interpret the ranking as weights. \n",
    "Similar encoding zip code with dummy variables would lead to 170 - 1 new columns and\n",
    "putting strain on the computations.\n",
    "Frequency encoding offers an alternative to label encoding in this case.\n",
    "</p> \n",
    "\n",
    "Frequency encoding: It is a way to utilize the frequency of the categories as labels. In the cases where the frequency is related somewhat with the target variable, it helps the model to understand and assign the weight in direct and inverse proportion, depending on the nature of the data.\n",
    "</p> \n",
    "\n",
    "<a href=\"https://www.datacamp.com/community/tutorials/encoding-methodologies\">Datacamp</a>\n",
    "\n",
    "<p>\n",
    "Obviously the frequency is related with the target variable here.\n",
    "</p> "
   ]
  },
  {
   "cell_type": "code",
   "execution_count": 751,
   "metadata": {},
   "outputs": [
    {
     "name": "stdout",
     "output_type": "stream",
     "text": [
      "00000    132\n",
      "00120     35\n",
      "00200     35\n",
      "00160     34\n",
      "00100     30\n",
      "Name: ZipCode, dtype: int64\n",
      "(170,)\n"
     ]
    }
   ],
   "source": [
    "print(creditap['ZipCode'].value_counts().head())\n",
    "print(creditap['ZipCode'].value_counts().shape)"
   ]
  },
  {
   "cell_type": "code",
   "execution_count": 752,
   "metadata": {},
   "outputs": [
    {
     "data": {
      "image/png": "[encoded data removed]",
      "text/plain": [
       "<Figure size 1584x432 with 2 Axes>"
      ]
     },
     "metadata": {
      "needs_background": "light"
     },
     "output_type": "display_data"
    }
   ],
   "source": [
    "fig, (ax1, ax2) = plt.subplots(nrows=2, ncols=1, figsize=(22, 6))\n",
    "plt.subplots_adjust(top=1.7)\n",
    "\n",
    "creditap['ZipCode'].value_counts().plot.bar(ax=ax1, title=\"Frequency of zip code absolute\", \n",
    "                                            edgecolor='black', linewidth=3, color=['r', 'b'])\n",
    "creditap['ZipCode'].value_counts().plot.bar(ax=ax2, title=\"Frequency of zip code logarithmic\",\n",
    "                                            edgecolor='black', linewidth=3, color=['r', 'b'])\n",
    "plt.show()\n",
    "\n",
    "\n"
   ]
  },
  {
   "cell_type": "code",
   "execution_count": 753,
   "metadata": {},
   "outputs": [],
   "source": [
    "creditap_4a = creditap_3.copy()"
   ]
  },
  {
   "cell_type": "code",
   "execution_count": 754,
   "metadata": {},
   "outputs": [
    {
     "name": "stdout",
     "output_type": "stream",
     "text": [
      "<class 'pandas.core.frame.DataFrame'>\n",
      "(169, 1)\n",
      "       ZipCode\n",
      "00000      132\n",
      "00200       48\n",
      "00120       35\n",
      "00160       34\n",
      "00100       30\n"
     ]
    }
   ],
   "source": [
    "zip_vc = creditap_4a['ZipCode'].value_counts().sort_values(ascending=False)\n",
    "zip_vc_df = pd.DataFrame(zip_vc)\n",
    "\n",
    "print(type(zip_vc_df))\n",
    "print(zip_vc_df.shape)\n",
    "print(zip_vc_df.head())"
   ]
  },
  {
   "cell_type": "code",
   "execution_count": 755,
   "metadata": {},
   "outputs": [
    {
     "name": "stdout",
     "output_type": "stream",
     "text": [
      "  Zip_Code  frequency  percentile_rank  proportions\n",
      "0    00000        132            169.0       0.1916\n",
      "1    00200         48            168.0       0.0697\n",
      "2    00120         35            167.0       0.0508\n",
      "3    00160         34            166.0       0.0493\n",
      "4    00100         30            164.5       0.0435\n"
     ]
    }
   ],
   "source": [
    "zip_vc_df = \\\n",
    "zip_vc_df.reset_index().rename(columns={'index':'Zip_Code', 'ZipCode':'frequency'})\n",
    "\n",
    "# Instead of immediate frequencies proportions are used to avoid \n",
    "# overweighting of the feature\n",
    "zip_vc_df['percentile_rank']= zip_vc_df['frequency'].rank()\n",
    "zip_vc_df['proportions']=round(zip_vc_df['frequency']/sum(zip_vc_df['frequency']),4)\n",
    "\n",
    "print(zip_vc_df.head())"
   ]
  },
  {
   "cell_type": "code",
   "execution_count": 756,
   "metadata": {},
   "outputs": [
    {
     "name": "stdout",
     "output_type": "stream",
     "text": [
      "Complete shape:  (689, 16)\n",
      "Counts_of_unique_zipcode_values:  (169, 1)\n",
      "            0\n",
      "00000  0.1916\n",
      "00200  0.0697\n",
      "00120  0.0508\n",
      "00160  0.0493\n",
      "00100  0.0435\n"
     ]
    }
   ],
   "source": [
    "dict_zip = pd.DataFrame(zip_vc_df.proportions.values, index=zip_vc_df.Zip_Code).to_dict()\n",
    "dict_zip_2 = dict_zip[0]\n",
    "dict_df = pd.DataFrame.from_dict(dict_zip_2,  orient='index')\n",
    "\n",
    "print(\"Complete shape: \", creditap_4a.shape)\n",
    "print(\"Counts_of_unique_zipcode_values: \", dict_df.shape)\n",
    "print(dict_df.head())"
   ]
  },
  {
   "cell_type": "code",
   "execution_count": 757,
   "metadata": {},
   "outputs": [
    {
     "name": "stdout",
     "output_type": "stream",
     "text": [
      "<class 'pandas.core.series.Series'>\n",
      "(689,)\n",
      "0    0.0015\n",
      "1    0.0319\n",
      "2    0.0435\n",
      "3    0.0508\n",
      "4    0.0102\n",
      "Name: ZipCode, dtype: float64\n"
     ]
    }
   ],
   "source": [
    "mapper_1 =creditap_4a['ZipCode'].map(dict_zip_2)\n",
    "\n",
    "print(type(mapper_1))\n",
    "print(mapper_1.shape)\n",
    "print(mapper_1.head())"
   ]
  },
  {
   "cell_type": "code",
   "execution_count": 758,
   "metadata": {},
   "outputs": [
    {
     "name": "stdout",
     "output_type": "stream",
     "text": [
      "(689,)\n",
      "0    0.0015\n",
      "1    0.0319\n",
      "2    0.0435\n",
      "3    0.0508\n",
      "4    0.0102\n",
      "Name: ZipCode, dtype: float64\n"
     ]
    },
    {
     "data": {
      "text/plain": [
       "<matplotlib.axes._subplots.AxesSubplot at 0x2a3c72c0390>"
      ]
     },
     "execution_count": 758,
     "metadata": {},
     "output_type": "execute_result"
    },
    {
     "data": {
      "image/png": "[encoded data removed]",
      "text/plain": [
       "<Figure size 432x288 with 1 Axes>"
      ]
     },
     "metadata": {
      "needs_background": "light"
     },
     "output_type": "display_data"
    }
   ],
   "source": [
    "creditap_4a['ZipCode'] = mapper_1\n",
    "\n",
    "print(creditap_4a['ZipCode'].shape)\n",
    "print(creditap_4a['ZipCode'].head())\n",
    "\n",
    "compare_zip = \\\n",
    "pd.concat([pd.DataFrame(creditap_3['ZipCode']), pd.DataFrame(creditap_4a['ZipCode'] )], axis=1)\n",
    "\n",
    "compare_zip.rename(columns = {'ZipCode': 'ZipCode_frequency', 'ZipCode': 'ZipCode_proportions'}, inplace=True)\n",
    "compare_zip.tail()\n",
    "\n",
    "creditap_4a['ZipCode'].value_counts().plot.bar(title=\"Proportions of zip code\", \n",
    "                                            edgecolor='black', linewidth=3, color=['r', 'b'])"
   ]
  },
  {
   "cell_type": "code",
   "execution_count": 759,
   "metadata": {},
   "outputs": [
    {
     "name": "stdout",
     "output_type": "stream",
     "text": [
      "Gender             True\n",
      "Age               False\n",
      "Debt              False\n",
      "Married            True\n",
      "BankCustomer       True\n",
      "EducationLevel     True\n",
      "Ethnicity          True\n",
      "YearsEmployed     False\n",
      "PriorDefault       True\n",
      "Employed           True\n",
      "CreditScore       False\n",
      "DriversLicense     True\n",
      "Citizen            True\n",
      "ZipCode           False\n",
      "Income            False\n",
      "ApprovalStatus     True\n",
      "dtype: bool\n"
     ]
    }
   ],
   "source": [
    "creditap_4 = creditap_4a.copy()\n",
    "cat_mask = creditap_4.dtypes == 'object'\n",
    "print(cat_mask )"
   ]
  },
  {
   "cell_type": "code",
   "execution_count": 760,
   "metadata": {},
   "outputs": [
    {
     "name": "stdout",
     "output_type": "stream",
     "text": [
      "['Gender', 'Married', 'BankCustomer', 'EducationLevel', 'Ethnicity', 'PriorDefault', 'Employed', 'DriversLicense', 'Citizen', 'ApprovalStatus']\n",
      "(689, 10)\n",
      "['a' 'b']\n"
     ]
    }
   ],
   "source": [
    "cat_cols = creditap_4.columns[cat_mask].to_list()\n",
    "\n",
    "print(cat_cols)\n",
    "print(creditap_4[cat_cols].shape)\n",
    "print(creditap_4.Gender.unique())\n",
    "# print(creditap_4['Gender'])"
   ]
  },
  {
   "cell_type": "code",
   "execution_count": 761,
   "metadata": {},
   "outputs": [
    {
     "name": "stdout",
     "output_type": "stream",
     "text": [
      "   Gender  Married  BankCustomer  EducationLevel  Ethnicity  PriorDefault  \\\n",
      "0       0        1             0              10          3             1   \n",
      "1       0        1             0              10          3             1   \n",
      "2       1        1             0              12          7             1   \n",
      "3       1        1             0              12          7             1   \n",
      "4       1        1             0               9          7             1   \n",
      "\n",
      "   Employed  DriversLicense  Citizen  ApprovalStatus  \n",
      "0         1               0        0               0  \n",
      "1         0               0        0               0  \n",
      "2         1               1        0               0  \n",
      "3         0               0        2               0  \n",
      "4         0               1        0               0  \n"
     ]
    }
   ],
   "source": [
    "# instantiate the LabelEncoder\n",
    "le = preprocessing.LabelEncoder()\n",
    "\n",
    "# apply LabelEncoder on the categorical features\n",
    "creditap_4[cat_cols] = creditap_4[cat_cols].apply(lambda col: le.fit_transform(col))\n",
    "\n",
    "print(creditap_4[cat_cols].head())\n",
    "\n"
   ]
  },
  {
   "cell_type": "markdown",
   "metadata": {},
   "source": [
    "#### Are all variables numeric now?"
   ]
  },
  {
   "cell_type": "code",
   "execution_count": 762,
   "metadata": {},
   "outputs": [
    {
     "name": "stdout",
     "output_type": "stream",
     "text": [
      "<class 'pandas.core.frame.DataFrame'>\n",
      "RangeIndex: 689 entries, 0 to 688\n",
      "Data columns (total 16 columns):\n",
      "Gender            689 non-null int32\n",
      "Age               689 non-null float64\n",
      "Debt              689 non-null float64\n",
      "Married           689 non-null int32\n",
      "BankCustomer      689 non-null int32\n",
      "EducationLevel    689 non-null int32\n",
      "Ethnicity         689 non-null int32\n",
      "YearsEmployed     689 non-null float64\n",
      "PriorDefault      689 non-null int32\n",
      "Employed          689 non-null int32\n",
      "CreditScore       689 non-null int64\n",
      "DriversLicense    689 non-null int32\n",
      "Citizen           689 non-null int32\n",
      "ZipCode           689 non-null float64\n",
      "Income            689 non-null int64\n",
      "ApprovalStatus    689 non-null int32\n",
      "dtypes: float64(4), int32(10), int64(2)\n",
      "memory usage: 59.3 KB\n"
     ]
    }
   ],
   "source": [
    "creditap_4.info()"
   ]
  },
  {
   "cell_type": "code",
   "execution_count": 794,
   "metadata": {},
   "outputs": [
    {
     "name": "stdout",
     "output_type": "stream",
     "text": [
      "['Gender', 'Age', 'Debt', 'Married', 'BankCustomer', 'EducationLevel', 'YearsEmployed', 'PriorDefault', 'Employed', 'CreditScore', 'Citizen', 'ZipCode', 'Income', 'ApprovalStatus']\n",
      "14\n",
      "['Debt', 'YearsEmployed', 'CreditScore', 'Income']\n",
      "17\n"
     ]
    }
   ],
   "source": [
    "c4_cols_list = creditap_4.columns.to_list()\n",
    "print(c4_cols_list)\n",
    "print(len(c4_cols_list))\n",
    "print(numbers_list)\n",
    "print(len(color_list))"
   ]
  },
  {
   "cell_type": "code",
   "execution_count": 797,
   "metadata": {},
   "outputs": [
    {
     "data": {
      "image/png": "[encoded data removed]",
      "text/plain": [
       "<Figure size 936x504 with 14 Axes>"
      ]
     },
     "metadata": {
      "needs_background": "light"
     },
     "output_type": "display_data"
    }
   ],
   "source": [
    "\n",
    "fig = plt.figure(figsize=(13,7))\n",
    "fig.subplots_adjust(hspace=0.6, wspace=0.8)\n",
    "fig.suptitle(\"Distribution of variables\")\n",
    "for u,(i,j) in enumerate(zip(range(1,17), c4_cols_list)):\n",
    "        ax = fig.add_subplot(4, 4, i)\n",
    "        ax = creditap_4[j].plot.hist(color=color_list[i], \n",
    "                                  title=c4_cols_list[u])"
   ]
  },
  {
   "cell_type": "markdown",
   "metadata": {},
   "source": [
    "#### Feature selection\n",
    "\n",
    "<p>\n",
    "based on domain knowledge.\n",
    "</p>\n",
    "\n",
    "<p>\n",
    "Drivers License could be only indicator for repayment capability. \n",
    "A driver license could be a prerequiste for income, but in this case it would be correlated to income\n",
    "and is subject to multicolinearity. Drivers license is dropped.\n",
    "Ethnicity can be an indicator for repayment capability. On the other hand relying on Ethnicity as\n",
    "a feature is ethically controversial. Further considerations and preparations would be needed\n",
    "to maintain it as a feature. Therefore it is simply dropped here.\n",
    "</p> "
   ]
  },
  {
   "cell_type": "code",
   "execution_count": 763,
   "metadata": {},
   "outputs": [],
   "source": [
    "creditap_4 = creditap_4.drop(['Ethnicity', 'DriversLicense'], axis=1)"
   ]
  },
  {
   "cell_type": "markdown",
   "metadata": {},
   "source": [
    "#### Feature selection based on correlation\n",
    "\n",
    "<p>considering a correlation of 0.5 between variables as strong and indicating\n",
    "therefore multicollinearity no feature seem to have such a strong correlation.</p> "
   ]
  },
  {
   "cell_type": "code",
   "execution_count": 764,
   "metadata": {},
   "outputs": [
    {
     "name": "stdout",
     "output_type": "stream",
     "text": [
      "                   Debt  YearsEmployed  CreditScore    Income\n",
      "Debt           1.000000       0.298714     0.271003  0.122935\n",
      "YearsEmployed  0.298714       1.000000     0.322247  0.051267\n",
      "CreditScore    0.271003       0.322247     1.000000  0.063616\n",
      "Income         0.122935       0.051267     0.063616  1.000000\n"
     ]
    }
   ],
   "source": [
    "correlations_1 = creditap.corr()\n",
    "print(correlations_1)"
   ]
  },
  {
   "cell_type": "code",
   "execution_count": 765,
   "metadata": {},
   "outputs": [
    {
     "data": {
      "text/html": [
       "<div>\n",
       "<style scoped>\n",
       "    .dataframe tbody tr th:only-of-type {\n",
       "        vertical-align: middle;\n",
       "    }\n",
       "\n",
       "    .dataframe tbody tr th {\n",
       "        vertical-align: top;\n",
       "    }\n",
       "\n",
       "    .dataframe thead th {\n",
       "        text-align: right;\n",
       "    }\n",
       "</style>\n",
       "<table border=\"1\" class=\"dataframe\">\n",
       "  <thead>\n",
       "    <tr style=\"text-align: right;\">\n",
       "      <th></th>\n",
       "      <th>Debt</th>\n",
       "      <th>YearsEmployed</th>\n",
       "      <th>CreditScore</th>\n",
       "      <th>Income</th>\n",
       "    </tr>\n",
       "  </thead>\n",
       "  <tbody>\n",
       "    <tr>\n",
       "      <th>Debt</th>\n",
       "      <td>Self</td>\n",
       "      <td>0.298714</td>\n",
       "      <td>0.271003</td>\n",
       "      <td>0.122935</td>\n",
       "    </tr>\n",
       "    <tr>\n",
       "      <th>YearsEmployed</th>\n",
       "      <td>0.298714</td>\n",
       "      <td>Self</td>\n",
       "      <td>0.322247</td>\n",
       "      <td>0.0512669</td>\n",
       "    </tr>\n",
       "    <tr>\n",
       "      <th>CreditScore</th>\n",
       "      <td>0.271003</td>\n",
       "      <td>0.322247</td>\n",
       "      <td>Self</td>\n",
       "      <td>0.0636163</td>\n",
       "    </tr>\n",
       "    <tr>\n",
       "      <th>Income</th>\n",
       "      <td>0.122935</td>\n",
       "      <td>0.0512669</td>\n",
       "      <td>0.0636163</td>\n",
       "      <td>Self</td>\n",
       "    </tr>\n",
       "  </tbody>\n",
       "</table>\n",
       "</div>"
      ],
      "text/plain": [
       "                   Debt YearsEmployed CreditScore     Income\n",
       "Debt               Self      0.298714    0.271003   0.122935\n",
       "YearsEmployed  0.298714          Self    0.322247  0.0512669\n",
       "CreditScore    0.271003      0.322247        Self  0.0636163\n",
       "Income         0.122935     0.0512669   0.0636163       Self"
      ]
     },
     "execution_count": 765,
     "metadata": {},
     "output_type": "execute_result"
    }
   ],
   "source": [
    "(correlations_1[correlations_1 < 0.5]).replace(np.nan, 'Self')"
   ]
  },
  {
   "cell_type": "code",
   "execution_count": 766,
   "metadata": {},
   "outputs": [
    {
     "data": {
      "text/plain": [
       "0    383\n",
       "1    306\n",
       "Name: ApprovalStatus, dtype: int64"
      ]
     },
     "execution_count": 766,
     "metadata": {},
     "output_type": "execute_result"
    }
   ],
   "source": [
    "creditap_b = creditap\n",
    "creditap_b['ApprovalStatus'] = creditap_b['ApprovalStatus'].replace('+', 1).replace('-', 0)\n",
    "creditap_b['ApprovalStatus'].value_counts()\n"
   ]
  },
  {
   "cell_type": "markdown",
   "metadata": {},
   "source": [
    "#### Correlations between the features and the target variables\n",
    "<p>is considered to weak, when below 0.1.</p> \n"
   ]
  },
  {
   "cell_type": "code",
   "execution_count": 767,
   "metadata": {},
   "outputs": [
    {
     "name": "stdout",
     "output_type": "stream",
     "text": [
      "         feature  ApprovalStatus\n",
      "1    CreditScore        0.407270\n",
      "2  YearsEmployed        0.323260\n",
      "3           Debt        0.208171\n",
      "4         Income        0.176138\n"
     ]
    }
   ],
   "source": [
    "correlations_with_target=\\\n",
    "creditap_b.corr()['ApprovalStatus'].dropna().reset_index().rename(columns={'index':'feature'}). \\\n",
    "sort_values(by='ApprovalStatus', ascending=False).reset_index(drop=True).iloc[1:]\n",
    "\n",
    "print(correlations_with_target)"
   ]
  },
  {
   "cell_type": "markdown",
   "metadata": {},
   "source": [
    "CreditScore has the highest correlation to ApprovalStatus. Intuitively this make sense.\n",
    "High income may support repayment but can for example be contradicted by expenses.\n",
    "Not any is below 0.1."
   ]
  },
  {
   "cell_type": "markdown",
   "metadata": {},
   "source": [
    "#### Is scaling (normalization) necessary?\n",
    "<p>\n",
    "It is in generally necessary, when the value ranges of the variables varies widely. \n",
    "In many machine learning algorithms wide spreads of the data can influence the outputs\n",
    "unreasonable. Normalization makes the ranges of the features more proportionally to each other.\n",
    "</p> \n"
   ]
  },
  {
   "cell_type": "code",
   "execution_count": 768,
   "metadata": {},
   "outputs": [
    {
     "name": "stdout",
     "output_type": "stream",
     "text": [
      "['Gender', 'Married', 'BankCustomer', 'EducationLevel', 'PriorDefault', 'Employed', 'Citizen', 'ZipCode', 'ApprovalStatus']\n"
     ]
    }
   ],
   "source": [
    "cat_cols_44 = \\\n",
    "creditap_3.select_dtypes(include='object').drop(['Ethnicity', 'DriversLicense'], axis=1).columns.to_list()\n",
    "print(cat_cols_44)"
   ]
  },
  {
   "cell_type": "code",
   "execution_count": 769,
   "metadata": {},
   "outputs": [
    {
     "data": {
      "text/html": [
       "<div>\n",
       "<style scoped>\n",
       "    .dataframe tbody tr th:only-of-type {\n",
       "        vertical-align: middle;\n",
       "    }\n",
       "\n",
       "    .dataframe tbody tr th {\n",
       "        vertical-align: top;\n",
       "    }\n",
       "\n",
       "    .dataframe thead th {\n",
       "        text-align: right;\n",
       "    }\n",
       "</style>\n",
       "<table border=\"1\" class=\"dataframe\">\n",
       "  <thead>\n",
       "    <tr style=\"text-align: right;\">\n",
       "      <th></th>\n",
       "      <th>Age</th>\n",
       "      <th>Debt</th>\n",
       "      <th>YearsEmployed</th>\n",
       "      <th>CreditScore</th>\n",
       "      <th>Income</th>\n",
       "    </tr>\n",
       "  </thead>\n",
       "  <tbody>\n",
       "    <tr>\n",
       "      <th>min</th>\n",
       "      <td>13.75</td>\n",
       "      <td>0.0</td>\n",
       "      <td>0.0</td>\n",
       "      <td>0</td>\n",
       "      <td>0</td>\n",
       "    </tr>\n",
       "    <tr>\n",
       "      <th>max</th>\n",
       "      <td>80.25</td>\n",
       "      <td>28.0</td>\n",
       "      <td>28.5</td>\n",
       "      <td>67</td>\n",
       "      <td>100000</td>\n",
       "    </tr>\n",
       "    <tr>\n",
       "      <th>data_range</th>\n",
       "      <td>66.50</td>\n",
       "      <td>28.0</td>\n",
       "      <td>28.5</td>\n",
       "      <td>67</td>\n",
       "      <td>100000</td>\n",
       "    </tr>\n",
       "  </tbody>\n",
       "</table>\n",
       "</div>"
      ],
      "text/plain": [
       "              Age  Debt  YearsEmployed  CreditScore  Income\n",
       "min         13.75   0.0            0.0            0       0\n",
       "max         80.25  28.0           28.5           67  100000\n",
       "data_range  66.50  28.0           28.5           67  100000"
      ]
     },
     "execution_count": 769,
     "metadata": {},
     "output_type": "execute_result"
    }
   ],
   "source": [
    "def data_range(s):\n",
    "    min_a = round(s.min(), 2)\n",
    "    max_b = round(s.max(), 2)\n",
    "    d = max_b - min_a\n",
    "    return d\n",
    "\n",
    "agg_4 = creditap_4.drop(cat_cols_44, axis=1).agg(['min', 'max' , data_range])\n",
    "agg_4\n"
   ]
  },
  {
   "cell_type": "code",
   "execution_count": 770,
   "metadata": {},
   "outputs": [
    {
     "name": "stdout",
     "output_type": "stream",
     "text": [
      "Debt                 28.0\n",
      "YearsEmployed        28.5\n",
      "Age                  66.5\n",
      "CreditScore          67.0\n",
      "Income           100000.0\n",
      "Name: data_range, dtype: float64\n"
     ]
    }
   ],
   "source": [
    "print(agg_4.loc['data_range', :].sort_values())"
   ]
  },
  {
   "cell_type": "markdown",
   "metadata": {},
   "source": [
    "There is a spread between 28 and 10.000. Scaling is therefore justified, but done after splitting the data\n",
    "into train and test partition, because otherwise information could be 'leaked' between these.\n"
   ]
  },
  {
   "cell_type": "markdown",
   "metadata": {},
   "source": [
    "### Doing a train-test-split"
   ]
  },
  {
   "cell_type": "code",
   "execution_count": 771,
   "metadata": {},
   "outputs": [
    {
     "name": "stdout",
     "output_type": "stream",
     "text": [
      "(689, 14)\n",
      "0 Gender\n",
      "1 Age\n",
      "2 Debt\n",
      "3 Married\n",
      "4 BankCustomer\n",
      "5 EducationLevel\n",
      "6 YearsEmployed\n",
      "7 PriorDefault\n",
      "8 Employed\n",
      "9 CreditScore\n",
      "10 Citizen\n",
      "11 ZipCode\n",
      "12 Income\n",
      "13 ApprovalStatus\n"
     ]
    }
   ],
   "source": [
    "print(creditap_4.shape)\n",
    "for i,b in enumerate(creditap_4.columns):\n",
    "    print(i, b)"
   ]
  },
  {
   "cell_type": "code",
   "execution_count": 772,
   "metadata": {},
   "outputs": [
    {
     "name": "stdout",
     "output_type": "stream",
     "text": [
      "(689, 14)\n"
     ]
    }
   ],
   "source": [
    "creditap_array = creditap_4.values\n",
    "print(creditap_array.shape)\n",
    "X,y = creditap_array[:,0:12], creditap_array[:,13]"
   ]
  },
  {
   "cell_type": "code",
   "execution_count": 773,
   "metadata": {},
   "outputs": [
    {
     "name": "stdout",
     "output_type": "stream",
     "text": [
      "(461, 12)\n",
      "float64\n",
      "<class 'numpy.ndarray'>\n",
      "(228, 12)\n",
      "float64\n",
      "<class 'numpy.ndarray'>\n"
     ]
    }
   ],
   "source": [
    "X_train, X_test, y_train, y_test = train_test_split(X,y,test_size=0.33, random_state=42)\n",
    "\n",
    "print(X_train.shape)\n",
    "print(X_train.dtype)\n",
    "print(type(X_train))\n",
    "\n",
    "print(X_test.shape)\n",
    "print(X_test.dtype)\n",
    "print(type(X_test))"
   ]
  },
  {
   "cell_type": "code",
   "execution_count": 774,
   "metadata": {},
   "outputs": [
    {
     "name": "stdout",
     "output_type": "stream",
     "text": [
      "<class 'numpy.ndarray'>\n",
      "<class 'numpy.ndarray'>\n"
     ]
    }
   ],
   "source": [
    "scaler = MinMaxScaler(feature_range=(0,1))\n",
    "\n",
    "X_train_scaled = scaler.fit_transform(X_train)\n",
    "print(type(X_train_scaled))\n",
    "X_test_scaled = scaler.fit_transform(X_test)\n",
    "print(type(X_test))"
   ]
  },
  {
   "cell_type": "markdown",
   "metadata": {},
   "source": [
    "### Data modeling: fitting a random classifier model\n",
    "<p>as a base model.</p> "
   ]
  },
  {
   "cell_type": "code",
   "execution_count": 775,
   "metadata": {},
   "outputs": [
    {
     "data": {
      "text/plain": [
       "RandomForestClassifier(bootstrap=True, class_weight=None, criterion='gini',\n",
       "            max_depth=2, max_features='auto', max_leaf_nodes=None,\n",
       "            min_impurity_decrease=0.0, min_impurity_split=None,\n",
       "            min_samples_leaf=1, min_samples_split=2,\n",
       "            min_weight_fraction_leaf=0.0, n_estimators=100, n_jobs=None,\n",
       "            oob_score=False, random_state=0, verbose=0, warm_start=False)"
      ]
     },
     "execution_count": 775,
     "metadata": {},
     "output_type": "execute_result"
    }
   ],
   "source": [
    "clf_random = RandomForestClassifier(n_estimators=100, max_depth=2,random_state=0)\n",
    "clf_random.fit(X_train_scaled, y_train)"
   ]
  },
  {
   "cell_type": "code",
   "execution_count": 776,
   "metadata": {},
   "outputs": [
    {
     "name": "stdout",
     "output_type": "stream",
     "text": [
      "[1. 1. 1. 1. 1. 0. 1. 1. 0. 1.]\n",
      "Accuracy random forest model: 0.8333333333333334\n",
      "[[ 81  19]\n",
      " [ 19 109]]\n",
      "81 19 19 109\n"
     ]
    }
   ],
   "source": [
    "random_pred = clf_random.predict(X_test_scaled)\n",
    "print(random_pred[:10])\n",
    "\n",
    "random_score = clf_random.score(X_test_scaled, y_test)\n",
    "print('Accuracy random forest model:', random_score)\n",
    "\n",
    "confusion_random = confusion_matrix(y_test, random_pred)\n",
    "print(confusion_random)\n",
    "\n",
    "tn, fp, fn, tp = confusion_matrix(y_test, random_pred).ravel()\n",
    "print(tn, fp, fn, tp)"
   ]
  },
  {
   "cell_type": "markdown",
   "metadata": {},
   "source": [
    "### Data modeling: fitting a logistic regression model\n",
    "<p>to compare it with the random forest model.</p> "
   ]
  },
  {
   "cell_type": "code",
   "execution_count": 777,
   "metadata": {},
   "outputs": [
    {
     "data": {
      "text/plain": [
       "LogisticRegression(C=1.0, class_weight=None, dual=False, fit_intercept=True,\n",
       "          intercept_scaling=1, max_iter=100, multi_class='warn',\n",
       "          n_jobs=None, penalty='l2', random_state=42, solver='liblinear',\n",
       "          tol=0.0001, verbose=0, warm_start=False)"
      ]
     },
     "execution_count": 777,
     "metadata": {},
     "output_type": "execute_result"
    }
   ],
   "source": [
    "logisticregression = LogisticRegression(solver='liblinear', random_state=42)\n",
    "logisticregression.fit(X_train_scaled, y_train)"
   ]
  },
  {
   "cell_type": "code",
   "execution_count": 778,
   "metadata": {},
   "outputs": [
    {
     "name": "stdout",
     "output_type": "stream",
     "text": [
      "[1. 1. 1. 1. 1. 0. 1. 0. 0. 1.]\n",
      "Accuracy logistic regression model: 0.8728070175438597\n",
      "[[ 96   4]\n",
      " [ 25 103]]\n"
     ]
    }
   ],
   "source": [
    "log_pred = logisticregression.predict(X_test_scaled)\n",
    "print(log_pred[:10])\n",
    "\n",
    "log_score = logisticregression.score(X_test_scaled, y_test)\n",
    "print('Accuracy logistic regression model:', log_score)\n",
    "\n",
    "confusion_log = confusion_matrix(y_test, log_pred)\n",
    "print(confusion_log)"
   ]
  },
  {
   "cell_type": "markdown",
   "metadata": {},
   "source": [
    "Compared with the accuracy of 0.83 of the random forest model, the accuracy of the logistic regression model\n",
    "is better with ca. 0.87. In the next step a GridSearchCV over some parameters is conducted to find the \n",
    "parameters with the best accuracy.\n"
   ]
  },
  {
   "cell_type": "markdown",
   "metadata": {},
   "source": [
    "### Data modeling: fitting a grid search with logistic regression estimator"
   ]
  },
  {
   "cell_type": "code",
   "execution_count": 779,
   "metadata": {},
   "outputs": [],
   "source": [
    "tol = [1, 0.1, 0.01, 0.001, 0.0001]\n",
    "max_iter = [100, 150, 200]\n",
    "solver = ['newton-cg', 'lbfgs', 'liblinear']\n",
    "\n",
    "param_grid = dict(tol=tol, max_iter=max_iter, solver=solver)"
   ]
  },
  {
   "cell_type": "code",
   "execution_count": 780,
   "metadata": {},
   "outputs": [
    {
     "data": {
      "text/plain": [
       "GridSearchCV(cv=5, error_score='raise-deprecating',\n",
       "       estimator=LogisticRegression(C=1.0, class_weight=None, dual=False, fit_intercept=True,\n",
       "          intercept_scaling=1, max_iter=100, multi_class='warn',\n",
       "          n_jobs=None, penalty='l2', random_state=42, solver='liblinear',\n",
       "          tol=0.0001, verbose=0, warm_start=False),\n",
       "       fit_params=None, iid=False, n_jobs=None,\n",
       "       param_grid={'tol': [1, 0.1, 0.01, 0.001, 0.0001], 'max_iter': [100, 150, 200], 'solver': ['newton-cg', 'lbfgs', 'liblinear']},\n",
       "       pre_dispatch='2*n_jobs', refit=True, return_train_score='warn',\n",
       "       scoring=None, verbose=0)"
      ]
     },
     "execution_count": 780,
     "metadata": {},
     "output_type": "execute_result"
    }
   ],
   "source": [
    "gridsearch = GridSearchCV(estimator=logisticregression, param_grid=param_grid, cv=5, iid=False)\n",
    "gridsearch_scaled = scaler.fit_transform(X)\n",
    "gridsearch.fit(gridsearch_scaled, y)"
   ]
  },
  {
   "cell_type": "code",
   "execution_count": 781,
   "metadata": {},
   "outputs": [
    {
     "name": "stdout",
     "output_type": "stream",
     "text": [
      "Gridsearch best accuracy score: 0.8551703353280562\n",
      "Gridsearch params for best accuracy score: {'max_iter': 100, 'solver': 'liblinear', 'tol': 1}\n"
     ]
    }
   ],
   "source": [
    "grid_score = gridsearch.best_score_\n",
    "print(\"Gridsearch best accuracy score:\", grid_score)\n",
    "\n",
    "grid_bestparams = gridsearch.best_params_\n",
    "print(\"Gridsearch params for best accuracy score:\", grid_bestparams)"
   ]
  },
  {
   "cell_type": "markdown",
   "metadata": {},
   "source": [
    "### Conclusion\n",
    "\n",
    "<p>There was some substantial effort necessary to clean and prepare the data.\n",
    "The best accuracy was achieved with the basic logistic regression model applying the\n",
    "'liblinear'-solver. This does not mean further hyperparameter tuning cannot achieve\n",
    "a better accuracy. So other algorithms can be applied.\n",
    "</p> \n"
   ]
  },
  {
   "cell_type": "code",
   "execution_count": null,
   "metadata": {},
   "outputs": [],
   "source": []
  }
 ],
 "metadata": {
  "kernelspec": {
   "display_name": "Python 3",
   "language": "python",
   "name": "python3"
  },
  "language_info": {
   "codemirror_mode": {
    "name": "ipython",
    "version": 3
   },
   "file_extension": ".py",
   "mimetype": "text/x-python",
   "name": "python",
   "nbconvert_exporter": "python",
   "pygments_lexer": "ipython3",
   "version": "3.7.3"
  }
 },
 "nbformat": 4,
 "nbformat_minor": 2
}
